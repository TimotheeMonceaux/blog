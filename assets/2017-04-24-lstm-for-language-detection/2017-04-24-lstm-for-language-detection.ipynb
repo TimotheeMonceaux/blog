{
 "cells": [
  {
   "cell_type": "code",
   "execution_count": 1,
   "metadata": {
    "collapsed": false
   },
   "outputs": [
    {
     "name": "stderr",
     "output_type": "stream",
     "text": [
      "Using TensorFlow backend.\n"
     ]
    }
   ],
   "source": [
    "import os, sys, re\n",
    "from time import time\n",
    "import tqdm\n",
    "import numpy, pandas\n",
    "import sklearn.model_selection\n",
    "import matplotlib.pyplot as plt\n",
    "import keras"
   ]
  },
  {
   "cell_type": "code",
   "execution_count": 2,
   "metadata": {
    "collapsed": true
   },
   "outputs": [],
   "source": [
    "def timed(f):\n",
    "    \"\"\"A decorator that prints out the execution time of a function\"\"\"\n",
    "    def time_decorator(*args, **kwargs):\n",
    "        t = time()\n",
    "        res = f(*args, **kwargs)\n",
    "        print('Execution of \"{}()\": {:.2f}s'.format(f.__name__, time()-t))\n",
    "        return res\n",
    "    return time_decorator"
   ]
  },
  {
   "cell_type": "markdown",
   "metadata": {},
   "source": [
    "# CSE6240 Project 2:LSTMs for Language Detection\n",
    "## Timothée Monceaux -  Robin Ricard - 04/24/2017"
   ]
  },
  {
   "cell_type": "markdown",
   "metadata": {},
   "source": [
    "___\n",
    "\n",
    "<span style=\"color:darkblue\"><b><u>Note:</u></b> in this report, the instructions are in black while our notes/comments/answers are in darkblue. The code is also largely commented.</span><br><br>\n",
    "<h3 style=\"color:darkblue\">Important: This notebook is not exhaustive. Please read our [blog post](http://timothee.monceaux.me/blog/2017/04/24/lstm-for-language-detection.html) to consider our whole work for this project.</h3>\n",
    "___"
   ]
  },
  {
   "cell_type": "markdown",
   "metadata": {},
   "source": [
    "LSTMs are useful for building character-sequential prediction models. In this project you will use it to build string scoring models which you will then combine into a single language detector.\n",
    "\n",
    "To begin, please refresh you background on LSTMs:\n",
    "\n",
    "* [http://colah.github.io/posts/2015-08-Understanding-LSTMs/](http://colah.github.io/posts/2015-08-Understanding-LSTMs/)\n",
    "* [http://karpathy.github.io/2015/05/21/rnn-effectiveness/](http://karpathy.github.io/2015/05/21/rnn-effectiveness/)"
   ]
  },
  {
   "cell_type": "markdown",
   "metadata": {},
   "source": [
    "## Part 1 -- Building String Scoring Models [100 points]\n",
    "* Download this dataset, [http://cloudmark.github.io/data/subset.zip](http://cloudmark.github.io/data/subset.zip) , which is used in this blog, [http://cloudmark.github.io/Language-Detection-Implemenation/](http://cloudmark.github.io/Language-Detection-Implemenation/) , for a language detection experiment. Note that the zip archive contains 23 files, each is the same text translated into a different language.\n"
   ]
  },
  {
   "cell_type": "code",
   "execution_count": 3,
   "metadata": {
    "collapsed": true
   },
   "outputs": [],
   "source": [
    "assert(os.path.isfile('data/frn.txt'))\n",
    "assert(os.path.isfile('data/eng.txt'))"
   ]
  },
  {
   "cell_type": "markdown",
   "metadata": {},
   "source": [
    "* Review the Keras documentation and example on LSTM for text generation at [https://keras.io/getting-started/sequential-model-guide/](https://keras.io/getting-started/sequential-model-guide/) and [https://github.com/fchollet/keras/blob/master/examples/lstm_text_generation.py](https://github.com/fchollet/keras/blob/master/examples/lstm_text_generation.py). The example, in particular shows how to train an LSTM model. Note that we will not be using the sample generation part of the code (feel free to look at it, though)."
   ]
  },
  {
   "cell_type": "markdown",
   "metadata": {},
   "source": [
    "* For eng.txt and jap.txt, split each file into 80/20 learning/holdout subsets. Lowercase all of the letters for simplicity."
   ]
  },
  {
   "cell_type": "code",
   "execution_count": 4,
   "metadata": {
    "collapsed": false
   },
   "outputs": [
    {
     "name": "stdout",
     "output_type": "stream",
     "text": [
      "Generated Training Data: X = array of size (51510, 5, 47) & y = array of size (51510, 47)\n"
     ]
    }
   ],
   "source": [
    "class Dataset:\n",
    "    \"\"\"Read, Preprocess, and Split the Data\"\"\"\n",
    "    \n",
    "    def __init__(self, text='data/eng.txt', substr_size=5, standard_charset=True):\n",
    "        \"\"\"Initialize the object and preprocess the data\"\"\"\n",
    "        self.text = self.preprocess(open(text).read()) # the original text/corpus\n",
    "        self.substr_size = substr_size # the n from our n-grams\n",
    "        self.length = len(self.text)-self.substr_size-1 # the size of our complete dataset\n",
    "        \n",
    "        if standard_charset: # We use the default, hard-coded charset\n",
    "            chars = ['a', 'b', 'c', 'd', 'e', 'f', 'g', 'h', 'i', 'j', 'k', 'l', 'm', \\\n",
    "                    'n', 'o', 'p', 'q', 'r', 's', 't', 'u', 'v', 'w', 'x', 'y', 'z', \\\n",
    "                    '0', '1', '2', '3', '4', '5', '6', '7', '8', '9', \\\n",
    "                    ' ', '.', ',', ';', '\"', \"'\", '?', '!', '-', '_', ':']\n",
    "        else: # We build the charset from the input text\n",
    "            chars = sorted(list(set(self.text))) \n",
    "        self.n_chars = len(chars) # the number of different characters we're working with\n",
    "        self.char_indices = dict((c, i) for i, c in enumerate(chars)) # From a char, retrieves the corresponding index\n",
    "        self.indices_char = dict((i, c) for i, c in enumerate(chars)) # From an index, retrieves the corresponding char\n",
    "        \n",
    "        # We build our initials X and y\n",
    "        X = numpy.zeros((self.length, self.substr_size, self.n_chars), dtype=numpy.bool)\n",
    "        y = numpy.zeros((self.length, self.n_chars), dtype=numpy.bool)\n",
    "        for i in range(self.length):\n",
    "            for j in range(self.substr_size):\n",
    "                X[i, j, self.char_indices[self.text[i+j]]] = True\n",
    "            y[i, self.char_indices[self.text[i+self.substr_size]]] = True\n",
    "        X_train = X[:int(0.8*self.length),:,:]\n",
    "        self.X_test = X[int(0.8*self.length):,:,:]\n",
    "        y_train = y[:int(0.8*self.length),:]\n",
    "        self.y_test = y[int(0.8*self.length):,:]\n",
    "        \n",
    "        # We add all the padding alternatives to our training set\n",
    "        # Padded Alternatives: Example for n-gram \"TRUMP\": [\"xTRUM\", \"xxTRU\", \"xxxTR\", \"xxxxT\"]\n",
    "        self.X_train = numpy.array(X_train)\n",
    "        self.y_train = numpy.array(y_train)\n",
    "        for i in range(0, self.substr_size):\n",
    "            y_train = numpy.array(X_train[:, -1]) # In order always to predict the very next char\n",
    "            X_train[:, 1:] = X_train[:, :-1] # We swap every column to the left\n",
    "            X_train[:, 0] = False # A padded space is a char where all bools are false\n",
    "            self.X_train = numpy.concatenate([self.X_train, X_train], axis=0)\n",
    "            self.y_train = numpy.concatenate([self.y_train, y_train], axis=0)\n",
    "            \n",
    "    def preprocess(self, to_preprocess):\n",
    "        \"\"\"Convert all leters to lower and removes unwanted punctuation signs\"\"\"\n",
    "        res = to_preprocess.lower()\n",
    "        res = re.sub(r'[\\t\\n]', ' ', res)\n",
    "        res = re.sub(r'[^a-z+\\d+ \\.,;\"\\'\\?!\\-_:]', '', res)\n",
    "        return res\n",
    "    \n",
    "    def format(self, to_format):\n",
    "        \"\"\"Convert a string to a usable numpy array\"\"\"\n",
    "        to_format_ = self.preprocess(to_format)\n",
    "        res = numpy.zeros((len(to_format_), self.n_chars), dtype=numpy.bool)\n",
    "        for i in range(len(to_format_)):\n",
    "            res[i, self.char_indices[to_format_[i]]] = True\n",
    "        return res\n",
    "    \n",
    "    def unformat(self, to_unformat):\n",
    "        \"\"\"Convert a usable numpy array into the string it encodes\"\"\"\n",
    "        res = ''\n",
    "        for i in range(to_unformat.shape[0]):\n",
    "            res += self.indices_char[numpy.argmax(to_unformat[i])]\n",
    "        return res\n",
    "    \n",
    "    def sample(self, size=100):\n",
    "        indices = numpy.random.choice(numpy.arange(self.X_test.shape[0]), size)\n",
    "        return (self.X_test[indices], self.y_test[indices])\n",
    "\n",
    "english = Dataset()\n",
    "french = Dataset(\"data/frn.txt\")\n",
    "print(\"Generated Training Data: X = array of size {} & y = array of size {}\".format(english.X_train.shape, english.y_train.shape))"
   ]
  },
  {
   "cell_type": "markdown",
   "metadata": {},
   "source": [
    "* Train two LSTM models (size 128), one for eng.txt and one for jap.txt, on the learning datasets you created. Set nepochs=5. You can experiment with other settings if you like. An example line from your script might be: model.fit(X_train_eng, y_train_eng, batch_size=128, nb_epoch=5, validation_split=0.2)"
   ]
  },
  {
   "cell_type": "code",
   "execution_count": 5,
   "metadata": {
    "collapsed": false,
    "scrolled": false
   },
   "outputs": [
    {
     "name": "stdout",
     "output_type": "stream",
     "text": [
      "_________________________________________________________________\n",
      "Layer (type)                 Output Shape              Param #   \n",
      "=================================================================\n",
      "lstm_1 (LSTM)                (None, 128)               90112     \n",
      "_________________________________________________________________\n",
      "dense_1 (Dense)              (None, 47)                6063      \n",
      "_________________________________________________________________\n",
      "activation_1 (Activation)    (None, 47)                0         \n",
      "=================================================================\n",
      "Total params: 96,175.0\n",
      "Trainable params: 96,175.0\n",
      "Non-trainable params: 0.0\n",
      "_________________________________________________________________\n",
      "Epoch 1/5\n",
      "51510/51510 [==============================] - 6s - loss: 2.2843     \n",
      "Epoch 2/5\n",
      "51510/51510 [==============================] - 5s - loss: 1.9310     \n",
      "Epoch 3/5\n",
      "51510/51510 [==============================] - 5s - loss: 1.7917     \n",
      "Epoch 4/5\n",
      "51510/51510 [==============================] - 5s - loss: 1.7110     \n",
      "Epoch 5/5\n",
      "51510/51510 [==============================] - 5s - loss: 1.6591     \n",
      "\n",
      "Generated from the seed \"ment \":\n",
      "ment the right to law imsoms and the right to securither limitand assespand and reticled to social care rights of this consclediage his communibjrone has the right to equal protection and the hight to security everyone has the communibjeceedo securithing, social care and nociremente may including of the right to the himsell-befor himself and and in the rights and egard and to limitand all chright \n"
     ]
    }
   ],
   "source": [
    "class LSTM:\n",
    "    \"\"\"A LSTM model that is used to predict the language of a given sentence\"\"\"\n",
    "    \n",
    "    def __init__(self, dataset, verbose=False):\n",
    "        \"\"\"Initialize the object and compile the model\"\"\"\n",
    "        self.dataset = dataset\n",
    "        self.model = keras.models.Sequential()\n",
    "        self.model.add(keras.layers.LSTM(128, input_shape=(self.dataset.substr_size, self.dataset.n_chars)))\n",
    "        self.model.add(keras.layers.Dense(self.dataset.n_chars))\n",
    "        self.model.add(keras.layers.Activation('softmax'))\n",
    "        optimizer = keras.optimizers.RMSprop(lr=0.01)\n",
    "        self.model.compile(loss='categorical_crossentropy', optimizer=optimizer)\n",
    "        if verbose:\n",
    "            self.model.summary()\n",
    "            \n",
    "    def train(self, epochs=5, verbose=False):\n",
    "        \"\"\"Train the model on the dataset's training set\"\"\"\n",
    "        if verbose: # prints generated text at each epoch for several temperatures (importance of randomness when choosing the next char)\n",
    "            for i in range(epochs):\n",
    "                self.model.fit(self.dataset.X_train, self.dataset.y_train, batch_size=128, epochs=1, shuffle=False)\n",
    "                for temperature in [0.2, 0.5, 1.0, 1.2]:\n",
    "                    print()\n",
    "                    print(\"For temperature {}:\".format(temperature))\n",
    "                    self.generate(temperature=temperature)\n",
    "                print()\n",
    "        else: # We're not prompting anything else than the advancement\n",
    "            self.model.fit(self.dataset.X_train, self.dataset.y_train, batch_size=128, epochs=epochs, shuffle=False)\n",
    "        return self\n",
    "    \n",
    "    def generate(self, seed=None, size=400, temperature=0.5):\n",
    "        \"\"\"Given some seed (string), generate a text of size size\"\"\"\n",
    "        def sample(preds):\n",
    "            \"\"\"Sample an index from a probability array\"\"\"\n",
    "            preds = numpy.asarray(preds).astype('float64')\n",
    "            preds = numpy.log(preds) / temperature\n",
    "            exp_preds = numpy.exp(preds)\n",
    "            preds = exp_preds / numpy.sum(exp_preds)\n",
    "            probas = numpy.random.multinomial(1, preds, 1)\n",
    "            return numpy.argmax(probas)\n",
    "        \n",
    "        # By default, we use some random string from the original text as a seed\n",
    "        if not seed:\n",
    "            starting_point = numpy.random.randint(0, len(self.dataset.text)-self.dataset.substr_size)\n",
    "            seed = self.dataset.text[starting_point: starting_point + self.dataset.substr_size]\n",
    "        print('\\nGenerated from the seed \"{}\":'.format(seed))\n",
    "        generated = seed\n",
    "        sys.stdout.write(seed)\n",
    "        for _ in range(len(seed), size):\n",
    "            # We predict the next character after the end of our generated string\n",
    "            preds = self.model.predict(numpy.array([self.dataset.format(generated[-self.dataset.substr_size:])]))[0]\n",
    "            ix = sample(preds)\n",
    "            char = self.dataset.indices_char[ix]\n",
    "            # We append the generated character to the end of our string and prompt it\n",
    "            generated += char\n",
    "            sys.stdout.write(char)\n",
    "        print()\n",
    "        return self\n",
    "    \n",
    "    def predict(self, X_test=None):\n",
    "        \"\"\"Given a matrix X_test of preprocessed n-grams, returns a estimated probability\n",
    "        of each n-grams belonging to the same language as our training set\"\"\"\n",
    "        # By default, we're working on copies of our dataset's testing set\n",
    "        if X_test == None:\n",
    "            X_test = self.dataset.X_test\n",
    "        X_test = numpy.array(X_test)\n",
    "            \n",
    "        # Several assertions on X_test \n",
    "        if X_test.shape[2]!=self.dataset.n_chars:\n",
    "            raise ValueError(\"X must be working on the same charset as used dataset\")\n",
    "        if X_test.shape[1]!=self.dataset.substr_size:\n",
    "            raise ValueError(\"X must be constituted of {}-grams (here {}-grams)\".format(self.dataset.substr_size, X_test.shape[1]))\n",
    "        \n",
    "        # res will contain the probabilities of a n-grams and its padded alternatives belonging to the language\n",
    "        # Padded Alternatives: Example for n-gram \"TRUMP\": [\"xTRUM\", \"xxTRU\", \"xxxTR\", \"xxxxT\", \"xxxxx\"]\n",
    "        res = numpy.zeros((X_test.shape[0], self.dataset.substr_size)) # Order of the columns: [\"xxxxx\", \"xxxxT\", \"xxxTR\", \"xxTRU\", \"xTRUM\"]   \n",
    "        for i in range(self.dataset.substr_size):\n",
    "            y_test = numpy.array(X_test[:, -1]) # In order always to predict the very next char\n",
    "            X_test[:, 1:] = X_test[:, :-1] # We swap every column to the left\n",
    "            X_test[:, 0] = False # A padded space is a char where all bools are false\n",
    "            res[:, self.dataset.substr_size-i-1] = self.model.predict(X_test)[y_test] # We only want the prob on the next char\n",
    "        return numpy.sum(numpy.log(res), axis=1) # we return the overall log-likelyhood\n",
    "            \n",
    "english_lstm = LSTM(Dataset(), verbose=True).train().generate()"
   ]
  },
  {
   "cell_type": "code",
   "execution_count": 6,
   "metadata": {
    "collapsed": false
   },
   "outputs": [
    {
     "name": "stdout",
     "output_type": "stream",
     "text": [
      "_________________________________________________________________\n",
      "Layer (type)                 Output Shape              Param #   \n",
      "=================================================================\n",
      "lstm_2 (LSTM)                (None, 128)               90112     \n",
      "_________________________________________________________________\n",
      "dense_2 (Dense)              (None, 47)                6063      \n",
      "_________________________________________________________________\n",
      "activation_2 (Activation)    (None, 47)                0         \n",
      "=================================================================\n",
      "Total params: 96,175.0\n",
      "Trainable params: 96,175.0\n",
      "Non-trainable params: 0.0\n",
      "_________________________________________________________________\n",
      "Epoch 1/5\n",
      "57570/57570 [==============================] - 6s - loss: 2.2037     \n",
      "Epoch 2/5\n",
      "57570/57570 [==============================] - 5s - loss: 1.9034     \n",
      "Epoch 3/5\n",
      "57570/57570 [==============================] - 5s - loss: 1.7871     \n",
      "Epoch 4/5\n",
      "57570/57570 [==============================] - 6s - loss: 1.7216     \n",
      "Epoch 5/5\n",
      "57570/57570 [==============================] - 5s - loss: 1.6794     \n",
      "\n",
      "Generated from the seed \"4 tou\":\n",
      "4 tout conte a droit a une a droits fondace ses de sa a droit a une existance de sa defen tant a une a droits de sa republicat de sa per une personne a une l'homme a une a droit a une de sa de personne a une a droit de fonder a une a droit a une personne a droit a une a droit a une a de melle. 2. toute perioder sa de personne a droit a un soute perte et a un a une a droits et et a une independamen\n"
     ]
    }
   ],
   "source": [
    "french_lstm = LSTM(Dataset(\"data/frn.txt\"), verbose=True).train().generate()"
   ]
  },
  {
   "cell_type": "markdown",
   "metadata": {},
   "source": [
    "<span style=\"color:darkblue\">As we can tell from both these outputs, the text generation from these LSTMs is pretty good. Even though the text generated doesn't mean much, it follows the overall structure and characters represention of English and French languages. The generated texts could be used as <i>Lorem Ipsum</i> for instance</span>"
   ]
  },
  {
   "cell_type": "markdown",
   "metadata": {},
   "source": [
    "* Generate a test dataset from the holdout files. From each of eng_holdout.txt and jap_holdout.txt files, randomly select 100 5-char substrings. You will end up with 200 test strings. These are the x_test for evaluation. The y_test are 1 for english and 0 for japanese"
   ]
  },
  {
   "cell_type": "code",
   "execution_count": 7,
   "metadata": {
    "collapsed": false
   },
   "outputs": [
    {
     "name": "stdout",
     "output_type": "stream",
     "text": [
      "Holdout data created: X_holdout of size (200, 5, 47) and y_holdout of size (200,).\n"
     ]
    }
   ],
   "source": [
    "class LanguageDiscriminator:\n",
    "    \"\"\"Combines two LSTM to distinguish some input from the different languages\"\"\"\n",
    "    \n",
    "    def __init__(self, lstm1, lstm2, language1=\"English\", language2=\"French\"):\n",
    "        \"\"\"Assert that the two provided LSTMs can work together and initialize the discriminator\"\"\"\n",
    "        if lstm1.dataset.n_chars != lstm2.dataset.n_chars:\n",
    "            raise ValueError(\"Both lstm/datasets must work on the same charset\")\n",
    "        if lstm1.dataset.substr_size != lstm2.dataset.substr_size:\n",
    "            raise ValueError(\"Both lstm/datasets must work on the same substring size\")\n",
    "        self.lstm1 = lstm1\n",
    "        self.dataset1 = self.lstm1.dataset\n",
    "        self.language1 = language1\n",
    "        self.lstm2 = lstm2\n",
    "        self.dataset2 = self.lstm2.dataset\n",
    "        self.language2 = language2\n",
    "        \n",
    "    def generate_sample_test_data(self, n=100, shuffle=True):\n",
    "        \"\"\"Generate a merged dataset from two samples of size n from the two different datasets\"\"\"\n",
    "        x1, _ = self.dataset1.sample(n)\n",
    "        y1 = [0] * x1.shape[0]\n",
    "        x2, _ = self.dataset2.sample(n)\n",
    "        y2 = [1] * x1.shape[0]\n",
    "        x = numpy.concatenate([x1, x2])\n",
    "        y = numpy.concatenate([y1, y2])\n",
    "        if shuffle:\n",
    "            x, _, y, _ = sklearn.model_selection.train_test_split(x, y, test_size=0)\n",
    "        return (x, y)\n",
    "    \n",
    "    def predict_probas(self, X=None):\n",
    "        \"\"\"Return both languages log-likelyhood for each row of X\"\"\"\n",
    "        if X==None:\n",
    "            X, _ = self.generate_sample_test_data()\n",
    "        res = numpy.empty((X.shape[0], 2))\n",
    "        res[:,0] = self.lstm1.predict(X)\n",
    "        res[:,1] = self.lstm2.predict(X)\n",
    "        return res\n",
    "    \n",
    "    def predict(self, X=None):\n",
    "        \"\"\"Return predicted labels for each row of X\"\"\"\n",
    "        if X==None:\n",
    "            X, _ = self.generate_sample_test_data()\n",
    "        preds = self.predict_probas(X)\n",
    "        return numpy.argmax(preds, axis=1)\n",
    "    \n",
    "    def score(self, X=None, y=None):\n",
    "        \"\"\"Output the accuracy on the classifier over X and y\"\"\"\n",
    "        if X==None and y==None:\n",
    "            X, y = self.generate_sample_test_data()\n",
    "            \n",
    "        # Several assertions on X and y\n",
    "        if X.shape[0]!=y.shape[0]:\n",
    "            raise ValueError(\"X and y must be of the same size\")\n",
    "        if X.shape[1]!=self.dataset1.substr_size:\n",
    "            raise ValueError(\"X must be constituted of {}-grams (here {}-grams)\".format(self.dataset1.substr_size, X.shape[1]))\n",
    "            \n",
    "        preds = self.predict(X)\n",
    "        return 1-numpy.abs(preds-y).sum()/X.shape[0]\n",
    "    \n",
    "    def plot_roc_curve(self, X=None, y=None):\n",
    "        \"\"\"Plot the Receiver Operating Characteristic curve for the current model\"\"\"\n",
    "        if X==None and y==None:\n",
    "            X, y = self.generate_sample_test_data()\n",
    "            \n",
    "        # Several assertions on X and y\n",
    "        if X.shape[0]!=y.shape[0]:\n",
    "            raise ValueError(\"X and y must be of the same size\")\n",
    "        if X.shape[1]!=self.dataset1.substr_size:\n",
    "            raise ValueError(\"X must be constituted of {}-grams (here {}-grams)\".format(self.dataset1.substr_size, X.shape[1]))\n",
    "        \n",
    "        # We build y_hat as the ratio between both class loglikelyhood\n",
    "        preds = self.predict_probas(X)\n",
    "        y_hat = preds[:,1] - preds[:, 0]\n",
    "        \n",
    "        # We compute the ROC & AUC for our predictions\n",
    "        fpr, tpr, _ = sklearn.metrics.roc_curve(y, y_hat)\n",
    "        roc_auc = sklearn.metrics.auc(fpr, tpr)\n",
    "        \n",
    "        # We build and display the plot using matplotlib\n",
    "        plt.figure()\n",
    "        plt.plot(fpr, tpr, color='darkorange',\n",
    "                 lw=2, label='ROC curve (area = %0.2f)' % roc_auc)\n",
    "        plt.plot([0, 1], [0, 1], color='navy', lw=2, linestyle='--')\n",
    "        plt.xlim([0.0, 1.0])\n",
    "        plt.ylim([0.0, 1.05])\n",
    "        plt.xlabel('False Positive Rate')\n",
    "        plt.ylabel('True Positive Rate')\n",
    "        plt.title('Receiver Operating Characteristic on our Language Classifier')\n",
    "        plt.legend(loc=\"lower right\")\n",
    "        plt.show()\n",
    "        return roc_auc\n",
    "\n",
    "X_holdout, y_holdout = LanguageDiscriminator(english_lstm, french_lstm).generate_sample_test_data()\n",
    "print(\"Holdout data created: X_holdout of size {} and y_holdout of size {}.\".format(X_holdout.shape, y_holdout.shape))"
   ]
  },
  {
   "cell_type": "markdown",
   "metadata": {},
   "source": [
    " * For each test string, compute the log likelihood of that string for each model. This is the hard part of the assignment and may require a little bit of thought, but you use model.predict() and conceptually generate the predicted probability for each string. For example, if my test_string is “trump” you would use model.predict() to compute Pr(t|START), Pr(r|START,t), Pr(u|START,tr), … Pr(p|STARTtrum), take the log of the probabilities and add them up. So for each test string you will end up with two numbers (log(Pr(string|eng)), log(Pr(string|jap)))."
   ]
  },
  {
   "cell_type": "code",
   "execution_count": 8,
   "metadata": {
    "collapsed": false
   },
   "outputs": [
    {
     "name": "stderr",
     "output_type": "stream",
     "text": [
      "C:\\Users\\Timothee\\Anaconda3\\envs\\DeepLearning\\lib\\site-packages\\ipykernel\\__main__.py:40: FutureWarning: comparison to `None` will result in an elementwise object comparison in the future.\n",
      "C:\\Users\\Timothee\\Anaconda3\\envs\\DeepLearning\\lib\\site-packages\\ipykernel\\__main__.py:31: FutureWarning: comparison to `None` will result in an elementwise object comparison in the future.\n",
      "C:\\Users\\Timothee\\Anaconda3\\envs\\DeepLearning\\lib\\site-packages\\ipykernel\\__main__.py:63: FutureWarning: comparison to `None` will result in an elementwise object comparison in the future.\n"
     ]
    },
    {
     "name": "stdout",
     "output_type": "stream",
     "text": [
      "Average accuracy on 10 tries of our Language Discriminator following this model: 0.8200.\n"
     ]
    }
   ],
   "source": [
    "ld = LanguageDiscriminator(english_lstm, french_lstm)\n",
    "avg_accuracy = 0\n",
    "for _ in range(10):\n",
    "    avg_accuracy += ld.score()\n",
    "print(\"Average accuracy on 10 tries of our Language Discriminator following this model: {:.4f}.\".format(avg_accuracy/10))"
   ]
  },
  {
   "cell_type": "markdown",
   "metadata": {},
   "source": [
    " * Use standard sklearn to compute an ROC where y_hat is the ratio of the two loglikelihood ratios. For example, if “trump” -> (0.8, 0.4), your y_hat would be 0.8/0.4 = 2\n",
    " * Plot the ROC on semilogx and print the AUC-ROC on the plot."
   ]
  },
  {
   "cell_type": "code",
   "execution_count": 9,
   "metadata": {
    "collapsed": false
   },
   "outputs": [
    {
     "name": "stderr",
     "output_type": "stream",
     "text": [
      "C:\\Users\\Timothee\\Anaconda3\\envs\\DeepLearning\\lib\\site-packages\\ipykernel\\__main__.py:31: FutureWarning: comparison to `None` will result in an elementwise object comparison in the future.\n",
      "C:\\Users\\Timothee\\Anaconda3\\envs\\DeepLearning\\lib\\site-packages\\ipykernel\\__main__.py:63: FutureWarning: comparison to `None` will result in an elementwise object comparison in the future.\n"
     ]
    },
    {
     "data": {
      "image/png": "[encoded data removed]",
      "text/plain": [
       "<matplotlib.figure.Figure at 0x19576bb69b0>"
      ]
     },
     "metadata": {},
     "output_type": "display_data"
    },
    {
     "name": "stdout",
     "output_type": "stream",
     "text": [
      "AUC ROC for the plot: 0.92\n"
     ]
    }
   ],
   "source": [
    "auc_roc = LanguageDiscriminator(english_lstm, french_lstm).plot_roc_curve()\n",
    "print(\"AUC ROC for the plot: {:.2f}\".format(auc_roc))"
   ]
  },
  {
   "cell_type": "markdown",
   "metadata": {},
   "source": [
    "* Is this model good?"
   ]
  },
  {
   "cell_type": "markdown",
   "metadata": {},
   "source": [
    "<span style=\"color:darkblue\">Yes, this model is really good: it shows an average accuracy of <b>0.82</b> and an AUC-ROC of <b>0.92</b>. There is still room for improvements but it shows that both LSTM models have understood the underlying structure of languages they're working on.</span>"
   ]
  },
  {
   "cell_type": "markdown",
   "metadata": {},
   "source": [
    "* What are at least three alternatives to language detection that you can think of or find on the internet? What are the pros and cons of each approach?"
   ]
  },
  {
   "cell_type": "markdown",
   "metadata": {},
   "source": [
    "<div style=\"color:darkblue\">\n",
    "<ul>\n",
    "<li>N-grams</li>\n",
    "<li>Term Frequency</li>\n",
    "<li>Mutual Information</li>\n",
    "</ul>\n",
    "Please read our [blog post](http://timothee.monceaux.me/blog/2017/04/24/lstm-for-language-detection.html) for more explanations about these methods\n",
    "</div>"
   ]
  },
  {
   "cell_type": "markdown",
   "metadata": {},
   "source": [
    "* Briefly describe at least 5 ways that you can improve this model, and what you think the value and predicted result of each approach would be? Example: “could use GPUs for training -> faster to get datasets; no change in efficacy”\n"
   ]
  },
  {
   "cell_type": "markdown",
   "metadata": {},
   "source": [
    "<div style=\"color:darkblue\">\n",
    "<ul>\n",
    "<li>Tune the LSTM -> change hyperparameters to improve the results</li>\n",
    "<li>Increase the corpus size -> more training, better results</li>\n",
    "<li>Changing the charset -> get the model more focused on what really matters</li>\n",
    "<li>Form of bagging where a same language would get multiple LSTM nets -> Increase accuracy</li>\n",
    "<li>Mix LSTM layers with anything else than a dense layer -> More complete model, better results</li>\n",
    "</ul>\n",
    "Please read our [blog post](http://timothee.monceaux.me/blog/2017/04/24/lstm-for-language-detection.html) for more explanations about these methods\n",
    "</div>"
   ]
  },
  {
   "cell_type": "markdown",
   "metadata": {},
   "source": [
    "## Part 2 -- Extra Credit [up to 40 points]\n",
    "For extra credit you should explore improvements to the language detection experiment. You are free to choose, and the amount of extra credit will be subjectively assigned based on how complete, interesting and effective the approach is at improving the experiment. Note that you don’t have to necessarily improve your detector results; some baseline experiments that might be expected to perform poorly may still be valuable for educational purposes.\n",
    "\n",
    "Some examples:\n",
    "* Train models for all languages. How do you score, then?\n",
    "* Explore early stopping by monitoring the validation dataset fit.\n",
    "* Explore variations in the hyperparameters of the model, including the size and number of LSTM layers.\n",
    "* Compare to simpler methods like n-grams or hmms or others."
   ]
  },
  {
   "cell_type": "markdown",
   "metadata": {},
   "source": [
    "### Training models for all languages"
   ]
  },
  {
   "cell_type": "code",
   "execution_count": 223,
   "metadata": {
    "collapsed": false
   },
   "outputs": [
    {
     "data": {
      "text/html": [
       "<div>\n",
       "<table border=\"1\" class=\"dataframe\">\n",
       "  <thead>\n",
       "    <tr style=\"text-align: right;\">\n",
       "      <th></th>\n",
       "      <th>dns</th>\n",
       "      <th>dut</th>\n",
       "      <th>eng</th>\n",
       "      <th>frn</th>\n",
       "      <th>ger</th>\n",
       "      <th>hng</th>\n",
       "      <th>itn</th>\n",
       "      <th>ltn</th>\n",
       "      <th>ltn1</th>\n",
       "      <th>lux</th>\n",
       "      <th>mls</th>\n",
       "      <th>por</th>\n",
       "      <th>rum</th>\n",
       "      <th>spn</th>\n",
       "      <th>yps</th>\n",
       "    </tr>\n",
       "  </thead>\n",
       "  <tbody>\n",
       "    <tr>\n",
       "      <th>dns</th>\n",
       "      <td>-</td>\n",
       "      <td>0.845</td>\n",
       "      <td>0.845</td>\n",
       "      <td>0.865</td>\n",
       "      <td>0.85</td>\n",
       "      <td>0.93</td>\n",
       "      <td>0.92</td>\n",
       "      <td>0.915</td>\n",
       "      <td>0.94</td>\n",
       "      <td>0.885</td>\n",
       "      <td>0.95</td>\n",
       "      <td>0.92</td>\n",
       "      <td>0.93</td>\n",
       "      <td>0.93</td>\n",
       "      <td>0.92</td>\n",
       "    </tr>\n",
       "    <tr>\n",
       "      <th>dut</th>\n",
       "      <td>0.845</td>\n",
       "      <td>-</td>\n",
       "      <td>0.89</td>\n",
       "      <td>0.91</td>\n",
       "      <td>0.845</td>\n",
       "      <td>0.875</td>\n",
       "      <td>0.91</td>\n",
       "      <td>0.935</td>\n",
       "      <td>0.92</td>\n",
       "      <td>0.865</td>\n",
       "      <td>0.935</td>\n",
       "      <td>0.94</td>\n",
       "      <td>0.95</td>\n",
       "      <td>0.91</td>\n",
       "      <td>0.94</td>\n",
       "    </tr>\n",
       "    <tr>\n",
       "      <th>eng</th>\n",
       "      <td>0.845</td>\n",
       "      <td>0.89</td>\n",
       "      <td>-</td>\n",
       "      <td>0.835</td>\n",
       "      <td>0.855</td>\n",
       "      <td>0.955</td>\n",
       "      <td>0.88</td>\n",
       "      <td>0.86</td>\n",
       "      <td>0.84</td>\n",
       "      <td>0.885</td>\n",
       "      <td>0.96</td>\n",
       "      <td>0.865</td>\n",
       "      <td>0.88</td>\n",
       "      <td>0.83</td>\n",
       "      <td>0.965</td>\n",
       "    </tr>\n",
       "    <tr>\n",
       "      <th>frn</th>\n",
       "      <td>0.865</td>\n",
       "      <td>0.91</td>\n",
       "      <td>0.835</td>\n",
       "      <td>-</td>\n",
       "      <td>0.885</td>\n",
       "      <td>0.965</td>\n",
       "      <td>0.81</td>\n",
       "      <td>0.83</td>\n",
       "      <td>0.82</td>\n",
       "      <td>0.895</td>\n",
       "      <td>0.935</td>\n",
       "      <td>0.85</td>\n",
       "      <td>0.85</td>\n",
       "      <td>0.795</td>\n",
       "      <td>0.97</td>\n",
       "    </tr>\n",
       "    <tr>\n",
       "      <th>ger</th>\n",
       "      <td>0.85</td>\n",
       "      <td>0.845</td>\n",
       "      <td>0.855</td>\n",
       "      <td>0.885</td>\n",
       "      <td>-</td>\n",
       "      <td>0.93</td>\n",
       "      <td>0.94</td>\n",
       "      <td>0.935</td>\n",
       "      <td>0.92</td>\n",
       "      <td>0.825</td>\n",
       "      <td>0.95</td>\n",
       "      <td>0.94</td>\n",
       "      <td>0.925</td>\n",
       "      <td>0.94</td>\n",
       "      <td>0.945</td>\n",
       "    </tr>\n",
       "    <tr>\n",
       "      <th>hng</th>\n",
       "      <td>0.93</td>\n",
       "      <td>0.875</td>\n",
       "      <td>0.955</td>\n",
       "      <td>0.965</td>\n",
       "      <td>0.93</td>\n",
       "      <td>-</td>\n",
       "      <td>0.96</td>\n",
       "      <td>0.935</td>\n",
       "      <td>0.955</td>\n",
       "      <td>0.92</td>\n",
       "      <td>0.94</td>\n",
       "      <td>0.945</td>\n",
       "      <td>0.97</td>\n",
       "      <td>0.95</td>\n",
       "      <td>0.95</td>\n",
       "    </tr>\n",
       "    <tr>\n",
       "      <th>itn</th>\n",
       "      <td>0.92</td>\n",
       "      <td>0.91</td>\n",
       "      <td>0.88</td>\n",
       "      <td>0.81</td>\n",
       "      <td>0.94</td>\n",
       "      <td>0.96</td>\n",
       "      <td>-</td>\n",
       "      <td>0.89</td>\n",
       "      <td>0.865</td>\n",
       "      <td>0.925</td>\n",
       "      <td>0.91</td>\n",
       "      <td>0.795</td>\n",
       "      <td>0.875</td>\n",
       "      <td>0.87</td>\n",
       "      <td>0.955</td>\n",
       "    </tr>\n",
       "    <tr>\n",
       "      <th>ltn</th>\n",
       "      <td>0.915</td>\n",
       "      <td>0.935</td>\n",
       "      <td>0.86</td>\n",
       "      <td>0.83</td>\n",
       "      <td>0.935</td>\n",
       "      <td>0.935</td>\n",
       "      <td>0.89</td>\n",
       "      <td>-</td>\n",
       "      <td>0.63</td>\n",
       "      <td>0.905</td>\n",
       "      <td>0.945</td>\n",
       "      <td>0.815</td>\n",
       "      <td>0.825</td>\n",
       "      <td>0.88</td>\n",
       "      <td>0.945</td>\n",
       "    </tr>\n",
       "    <tr>\n",
       "      <th>ltn1</th>\n",
       "      <td>0.94</td>\n",
       "      <td>0.92</td>\n",
       "      <td>0.84</td>\n",
       "      <td>0.82</td>\n",
       "      <td>0.92</td>\n",
       "      <td>0.955</td>\n",
       "      <td>0.865</td>\n",
       "      <td>0.63</td>\n",
       "      <td>-</td>\n",
       "      <td>0.92</td>\n",
       "      <td>0.94</td>\n",
       "      <td>0.855</td>\n",
       "      <td>0.835</td>\n",
       "      <td>0.875</td>\n",
       "      <td>0.95</td>\n",
       "    </tr>\n",
       "    <tr>\n",
       "      <th>lux</th>\n",
       "      <td>0.885</td>\n",
       "      <td>0.865</td>\n",
       "      <td>0.885</td>\n",
       "      <td>0.895</td>\n",
       "      <td>0.825</td>\n",
       "      <td>0.92</td>\n",
       "      <td>0.925</td>\n",
       "      <td>0.905</td>\n",
       "      <td>0.92</td>\n",
       "      <td>-</td>\n",
       "      <td>0.925</td>\n",
       "      <td>0.89</td>\n",
       "      <td>0.905</td>\n",
       "      <td>0.93</td>\n",
       "      <td>0.955</td>\n",
       "    </tr>\n",
       "    <tr>\n",
       "      <th>mls</th>\n",
       "      <td>0.95</td>\n",
       "      <td>0.935</td>\n",
       "      <td>0.96</td>\n",
       "      <td>0.935</td>\n",
       "      <td>0.95</td>\n",
       "      <td>0.94</td>\n",
       "      <td>0.91</td>\n",
       "      <td>0.945</td>\n",
       "      <td>0.94</td>\n",
       "      <td>0.925</td>\n",
       "      <td>-</td>\n",
       "      <td>0.925</td>\n",
       "      <td>0.91</td>\n",
       "      <td>0.915</td>\n",
       "      <td>0.915</td>\n",
       "    </tr>\n",
       "    <tr>\n",
       "      <th>por</th>\n",
       "      <td>0.92</td>\n",
       "      <td>0.94</td>\n",
       "      <td>0.865</td>\n",
       "      <td>0.85</td>\n",
       "      <td>0.94</td>\n",
       "      <td>0.945</td>\n",
       "      <td>0.795</td>\n",
       "      <td>0.815</td>\n",
       "      <td>0.855</td>\n",
       "      <td>0.89</td>\n",
       "      <td>0.925</td>\n",
       "      <td>-</td>\n",
       "      <td>0.83</td>\n",
       "      <td>0.715</td>\n",
       "      <td>0.97</td>\n",
       "    </tr>\n",
       "    <tr>\n",
       "      <th>rum</th>\n",
       "      <td>0.93</td>\n",
       "      <td>0.95</td>\n",
       "      <td>0.88</td>\n",
       "      <td>0.85</td>\n",
       "      <td>0.925</td>\n",
       "      <td>0.97</td>\n",
       "      <td>0.875</td>\n",
       "      <td>0.825</td>\n",
       "      <td>0.835</td>\n",
       "      <td>0.905</td>\n",
       "      <td>0.91</td>\n",
       "      <td>0.83</td>\n",
       "      <td>-</td>\n",
       "      <td>0.855</td>\n",
       "      <td>0.95</td>\n",
       "    </tr>\n",
       "    <tr>\n",
       "      <th>spn</th>\n",
       "      <td>0.93</td>\n",
       "      <td>0.91</td>\n",
       "      <td>0.83</td>\n",
       "      <td>0.795</td>\n",
       "      <td>0.94</td>\n",
       "      <td>0.95</td>\n",
       "      <td>0.87</td>\n",
       "      <td>0.88</td>\n",
       "      <td>0.875</td>\n",
       "      <td>0.93</td>\n",
       "      <td>0.915</td>\n",
       "      <td>0.715</td>\n",
       "      <td>0.855</td>\n",
       "      <td>-</td>\n",
       "      <td>0.955</td>\n",
       "    </tr>\n",
       "    <tr>\n",
       "      <th>yps</th>\n",
       "      <td>0.92</td>\n",
       "      <td>0.94</td>\n",
       "      <td>0.965</td>\n",
       "      <td>0.97</td>\n",
       "      <td>0.945</td>\n",
       "      <td>0.95</td>\n",
       "      <td>0.955</td>\n",
       "      <td>0.945</td>\n",
       "      <td>0.95</td>\n",
       "      <td>0.955</td>\n",
       "      <td>0.915</td>\n",
       "      <td>0.97</td>\n",
       "      <td>0.95</td>\n",
       "      <td>0.955</td>\n",
       "      <td>-</td>\n",
       "    </tr>\n",
       "  </tbody>\n",
       "</table>\n",
       "</div>"
      ],
      "text/plain": [
       "        dns    dut    eng    frn    ger    hng    itn    ltn   ltn1    lux  \\\n",
       "dns       -  0.845  0.845  0.865   0.85   0.93   0.92  0.915   0.94  0.885   \n",
       "dut   0.845      -   0.89   0.91  0.845  0.875   0.91  0.935   0.92  0.865   \n",
       "eng   0.845   0.89      -  0.835  0.855  0.955   0.88   0.86   0.84  0.885   \n",
       "frn   0.865   0.91  0.835      -  0.885  0.965   0.81   0.83   0.82  0.895   \n",
       "ger    0.85  0.845  0.855  0.885      -   0.93   0.94  0.935   0.92  0.825   \n",
       "hng    0.93  0.875  0.955  0.965   0.93      -   0.96  0.935  0.955   0.92   \n",
       "itn    0.92   0.91   0.88   0.81   0.94   0.96      -   0.89  0.865  0.925   \n",
       "ltn   0.915  0.935   0.86   0.83  0.935  0.935   0.89      -   0.63  0.905   \n",
       "ltn1   0.94   0.92   0.84   0.82   0.92  0.955  0.865   0.63      -   0.92   \n",
       "lux   0.885  0.865  0.885  0.895  0.825   0.92  0.925  0.905   0.92      -   \n",
       "mls    0.95  0.935   0.96  0.935   0.95   0.94   0.91  0.945   0.94  0.925   \n",
       "por    0.92   0.94  0.865   0.85   0.94  0.945  0.795  0.815  0.855   0.89   \n",
       "rum    0.93   0.95   0.88   0.85  0.925   0.97  0.875  0.825  0.835  0.905   \n",
       "spn    0.93   0.91   0.83  0.795   0.94   0.95   0.87   0.88  0.875   0.93   \n",
       "yps    0.92   0.94  0.965   0.97  0.945   0.95  0.955  0.945   0.95  0.955   \n",
       "\n",
       "        mls    por    rum    spn    yps  \n",
       "dns    0.95   0.92   0.93   0.93   0.92  \n",
       "dut   0.935   0.94   0.95   0.91   0.94  \n",
       "eng    0.96  0.865   0.88   0.83  0.965  \n",
       "frn   0.935   0.85   0.85  0.795   0.97  \n",
       "ger    0.95   0.94  0.925   0.94  0.945  \n",
       "hng    0.94  0.945   0.97   0.95   0.95  \n",
       "itn    0.91  0.795  0.875   0.87  0.955  \n",
       "ltn   0.945  0.815  0.825   0.88  0.945  \n",
       "ltn1   0.94  0.855  0.835  0.875   0.95  \n",
       "lux   0.925   0.89  0.905   0.93  0.955  \n",
       "mls       -  0.925   0.91  0.915  0.915  \n",
       "por   0.925      -   0.83  0.715   0.97  \n",
       "rum    0.91   0.83      -  0.855   0.95  \n",
       "spn   0.915  0.715  0.855      -  0.955  \n",
       "yps   0.915   0.97   0.95  0.955      -  "
      ]
     },
     "execution_count": 223,
     "metadata": {},
     "output_type": "execute_result"
    }
   ],
   "source": [
    "import itertools\n",
    "# removed czc, grk, jpn, lat, lit, rmn1, rus, ukr for they have characters unrecognized by python\n",
    "# making an actual classifier would be pretty easy based on this\n",
    "languages = ['dns', 'dut', 'eng', 'frn', 'ger', 'hng', \\\n",
    "             'itn', 'ltn', 'ltn1', 'lux', 'mls', \\\n",
    "             'por', 'rum', 'spn', 'yps']\n",
    "\n",
    "res_languages = pandas.DataFrame('-', index=languages, columns=languages)\n",
    "for lang1, lang2 in itertools.combinations(languages, 2): # for all combinations of languages\n",
    "    print(lang1, lang2) # we prompt the advancement of the computation\n",
    "    res_languages.ix[lang1][lang2] = LanguageDiscriminator(LSTM(Dataset(\"data/\"+lang1+\".txt\")).train(), LSTM(Dataset(\"data/\"+lang2+\".txt\")).train()).score()\n",
    "    res_languages.ix[lang2][lang1] = res_languages.ix[lang1][lang2] # the matrix is symetric\n",
    "    clear_output()\n",
    "\n",
    "res_languages"
   ]
  },
  {
   "cell_type": "markdown",
   "metadata": {},
   "source": [
    "<span style=\"color:darkblue\">As we can tell from these results, our model is pretty consistent with the all tested languages, with the exception or <i>ltn vs. ltn1</i>, for these languages are extremely close together. Our best results are <i>yps vs frn</i> and <i>yps vs por</i> with an accuracy of <b>0.97</b>, which is an excellent score.</span>"
   ]
  },
  {
   "cell_type": "markdown",
   "metadata": {},
   "source": [
    "### Exploring variations of Hyperparamters\n",
    "<div style=\"color:darkblue\"><br>\n",
    "For this part, we studied the influence of the following hyperparameters:\n",
    "<ul><li><b>Size of the substring (default 5):</b></li></ul>\n",
    "</div>"
   ]
  },
  {
   "cell_type": "code",
   "execution_count": 208,
   "metadata": {
    "collapsed": false
   },
   "outputs": [
    {
     "data": {
      "text/html": [
       "<div>\n",
       "<table border=\"1\" class=\"dataframe\">\n",
       "  <thead>\n",
       "    <tr style=\"text-align: right;\">\n",
       "      <th></th>\n",
       "      <th>Accuracy</th>\n",
       "      <th>Time</th>\n",
       "    </tr>\n",
       "  </thead>\n",
       "  <tbody>\n",
       "    <tr>\n",
       "      <th>2</th>\n",
       "      <td>0.66</td>\n",
       "      <td>44.8667</td>\n",
       "    </tr>\n",
       "    <tr>\n",
       "      <th>3</th>\n",
       "      <td>0.745</td>\n",
       "      <td>56.6141</td>\n",
       "    </tr>\n",
       "    <tr>\n",
       "      <th>5</th>\n",
       "      <td>0.8</td>\n",
       "      <td>89.146</td>\n",
       "    </tr>\n",
       "    <tr>\n",
       "      <th>10</th>\n",
       "      <td>0.9</td>\n",
       "      <td>206.376</td>\n",
       "    </tr>\n",
       "    <tr>\n",
       "      <th>15</th>\n",
       "      <td>0.985</td>\n",
       "      <td>392.82</td>\n",
       "    </tr>\n",
       "    <tr>\n",
       "      <th>20</th>\n",
       "      <td>0.965</td>\n",
       "      <td>599.342</td>\n",
       "    </tr>\n",
       "    <tr>\n",
       "      <th>30</th>\n",
       "      <td>1</td>\n",
       "      <td>1284.11</td>\n",
       "    </tr>\n",
       "    <tr>\n",
       "      <th>40</th>\n",
       "      <td>1</td>\n",
       "      <td>2022.78</td>\n",
       "    </tr>\n",
       "    <tr>\n",
       "      <th>50</th>\n",
       "      <td>0.62</td>\n",
       "      <td>3049.9</td>\n",
       "    </tr>\n",
       "  </tbody>\n",
       "</table>\n",
       "</div>"
      ],
      "text/plain": [
       "   Accuracy     Time\n",
       "2      0.66  44.8667\n",
       "3     0.745  56.6141\n",
       "5       0.8   89.146\n",
       "10      0.9  206.376\n",
       "15    0.985   392.82\n",
       "20    0.965  599.342\n",
       "30        1  1284.11\n",
       "40        1  2022.78\n",
       "50     0.62   3049.9"
      ]
     },
     "execution_count": 208,
     "metadata": {},
     "output_type": "execute_result"
    }
   ],
   "source": [
    "to_test = [2, 3, 5, 10, 15, 20, 30, 40, 50]\n",
    "res_substr_size = pandas.DataFrame(columns=[\"Accuracy\", \"Time\"], index=to_test)\n",
    "for size_of_the_substring in to_test:\n",
    "    t = time()\n",
    "    print(\"size_of_the_substring: \",size_of_the_substring)\n",
    "    res_substr_size.ix[size_of_the_substring][\"Accuracy\"] = LanguageDiscriminator(LSTM(Dataset(substr_size=size_of_the_substring)).train(), LSTM(Dataset(\"data/frn.txt\", substr_size=size_of_the_substring)).train()).score()\n",
    "    res_substr_size.ix[size_of_the_substring][\"Time\"] = time()-t\n",
    "    clear_output()\n",
    "res_substr_size"
   ]
  },
  {
   "cell_type": "markdown",
   "metadata": {},
   "source": [
    "<div style=\"color:darkblue\">As we can tell from the output above, the size of the substring has a <b>great influence</b> over the the accuracy and computational time. It grows continuously until 40, and at that point it starts to <b>overfit</b> and decrease rapidly to a point at which it's only slightly better than chance.\n",
    "<br><br>\n",
    "<i><u>Note:</u> At substring size of 30 and 40, the computed accuracy is 1. That doesn't mean that the actual accuracy of our model is 100%. Indeed, as we only tested it on 200 samples, and it got every single one of them right, that means that <b>the accuracy of our model is >0.995</b></i><br><br>\n",
    "<i><u>Note:</u> The size of the substring isn't the only influential parameter in this experience, as it also has a side effect. Indeed, as we are also training on every padded version of each substring, increasing their size will also increase the size of the training set. This partly explains the better results, but also the longer computational time.</i></div>"
   ]
  },
  {
   "cell_type": "markdown",
   "metadata": {},
   "source": [
    "<div style=\"color:darkblue\"><ul><li><b>Number of training epochs (default 5):</b></li></ul></div>"
   ]
  },
  {
   "cell_type": "code",
   "execution_count": 203,
   "metadata": {
    "collapsed": false
   },
   "outputs": [
    {
     "data": {
      "text/html": [
       "<div>\n",
       "<table border=\"1\" class=\"dataframe\">\n",
       "  <thead>\n",
       "    <tr style=\"text-align: right;\">\n",
       "      <th></th>\n",
       "      <th>Accuracy</th>\n",
       "      <th>Time</th>\n",
       "    </tr>\n",
       "  </thead>\n",
       "  <tbody>\n",
       "    <tr>\n",
       "      <th>2</th>\n",
       "      <td>0.8</td>\n",
       "      <td>46.6343</td>\n",
       "    </tr>\n",
       "    <tr>\n",
       "      <th>3</th>\n",
       "      <td>0.785</td>\n",
       "      <td>59.4425</td>\n",
       "    </tr>\n",
       "    <tr>\n",
       "      <th>5</th>\n",
       "      <td>0.815</td>\n",
       "      <td>85.4587</td>\n",
       "    </tr>\n",
       "    <tr>\n",
       "      <th>10</th>\n",
       "      <td>0.8</td>\n",
       "      <td>147.736</td>\n",
       "    </tr>\n",
       "    <tr>\n",
       "      <th>15</th>\n",
       "      <td>0.84</td>\n",
       "      <td>210.961</td>\n",
       "    </tr>\n",
       "    <tr>\n",
       "      <th>20</th>\n",
       "      <td>0.85</td>\n",
       "      <td>276.881</td>\n",
       "    </tr>\n",
       "    <tr>\n",
       "      <th>30</th>\n",
       "      <td>0.795</td>\n",
       "      <td>403.249</td>\n",
       "    </tr>\n",
       "    <tr>\n",
       "      <th>40</th>\n",
       "      <td>0.79</td>\n",
       "      <td>524.788</td>\n",
       "    </tr>\n",
       "    <tr>\n",
       "      <th>50</th>\n",
       "      <td>0.785</td>\n",
       "      <td>647.926</td>\n",
       "    </tr>\n",
       "  </tbody>\n",
       "</table>\n",
       "</div>"
      ],
      "text/plain": [
       "   Accuracy     Time\n",
       "2       0.8  46.6343\n",
       "3     0.785  59.4425\n",
       "5     0.815  85.4587\n",
       "10      0.8  147.736\n",
       "15     0.84  210.961\n",
       "20     0.85  276.881\n",
       "30    0.795  403.249\n",
       "40     0.79  524.788\n",
       "50    0.785  647.926"
      ]
     },
     "execution_count": 203,
     "metadata": {},
     "output_type": "execute_result"
    }
   ],
   "source": [
    "to_test = [2, 3, 5, 10, 15, 20, 30, 40, 50]\n",
    "res_n_epochs = pandas.DataFrame(columns=[\"Accuracy\", \"Time\"], index=to_test)\n",
    "for n_epochs in to_test:\n",
    "    t = time()\n",
    "    print(\"n_epochs: \",n_epochs)\n",
    "    res_n_epochs.ix[n_epochs][\"Accuracy\"] = LanguageDiscriminator(LSTM(Dataset()).train(epochs=n_epochs), LSTM(Dataset(\"data/frn.txt\")).train(epochs=n_epochs)).score()\n",
    "    res_n_epochs.ix[n_epochs][\"Time\"] = time()-t\n",
    "    clear_output()\n",
    "res_n_epochs"
   ]
  },
  {
   "cell_type": "markdown",
   "metadata": {},
   "source": [
    "<span style=\"color:darkblue\">As we can tell from the output above, the number of training epochs doesn't have much influence over the accuracy of our model. The accuracy seems to gradually, slowly increase intil about 20 epochs, where it starts to <b>overfit</b> and fall back. The computational time increases linearly to the number of training epochs, which is kind of intuitive.</span>"
   ]
  },
  {
   "cell_type": "markdown",
   "metadata": {},
   "source": [
    "<div style=\"color:darkblue\"><ul><li><b>Set of character used (default r'[a-z+\\d+ \\\\.,;\"'?!-_:]'):</b></li></ul><br>\n",
    "For this part, we computed four different versions of both <i>eng.txt</i> and <i>frn.txt</i> to the following different sets of characters:\n",
    "<ul>\n",
    "<li><i>everything:</i> default version</li>\n",
    "<li><i>no_punctuation:</i> keep only letters, numbers and spaces</li>\n",
    "<li><i>no_punctuation_digits:</i> keep only letters and spaces</li>\n",
    "<li><i>no_punctuation_digits_spaces:</i> keep only letters</li>\n",
    "</ul></div>"
   ]
  },
  {
   "cell_type": "code",
   "execution_count": 212,
   "metadata": {
    "collapsed": false
   },
   "outputs": [
    {
     "data": {
      "text/html": [
       "<div>\n",
       "<table border=\"1\" class=\"dataframe\">\n",
       "  <thead>\n",
       "    <tr style=\"text-align: right;\">\n",
       "      <th></th>\n",
       "      <th>Accuracy</th>\n",
       "      <th>Time</th>\n",
       "    </tr>\n",
       "  </thead>\n",
       "  <tbody>\n",
       "    <tr>\n",
       "      <th>everything</th>\n",
       "      <td>0.84</td>\n",
       "      <td>107.585</td>\n",
       "    </tr>\n",
       "    <tr>\n",
       "      <th>no_punctuation</th>\n",
       "      <td>0.785</td>\n",
       "      <td>109.083</td>\n",
       "    </tr>\n",
       "    <tr>\n",
       "      <th>no_punctuation_digits</th>\n",
       "      <td>0.815</td>\n",
       "      <td>103.357</td>\n",
       "    </tr>\n",
       "    <tr>\n",
       "      <th>no_punctuation_digits_spaces</th>\n",
       "      <td>0.815</td>\n",
       "      <td>92.1093</td>\n",
       "    </tr>\n",
       "  </tbody>\n",
       "</table>\n",
       "</div>"
      ],
      "text/plain": [
       "                             Accuracy     Time\n",
       "everything                       0.84  107.585\n",
       "no_punctuation                  0.785  109.083\n",
       "no_punctuation_digits           0.815  103.357\n",
       "no_punctuation_digits_spaces    0.815  92.1093"
      ]
     },
     "execution_count": 212,
     "metadata": {},
     "output_type": "execute_result"
    }
   ],
   "source": [
    "to_test = [\"no_punctuation\", \"no_punctuation_digits\", \"no_punctuation_digits_spaces\"]\n",
    "res_charset = pandas.DataFrame(columns=[\"Accuracy\", \"Time\"], index=[\"everything\"]+to_test)\n",
    "t = time()\n",
    "res_charset.ix[\"everything\"][\"Accuracy\"] = LanguageDiscriminator(LSTM(Dataset()).train(), LSTM(Dataset(\"data/frn.txt\")).train()).score()\n",
    "res_charset.ix[\"everything\"][\"Time\"] = time()-t\n",
    "for charset in to_test:\n",
    "    t = time()\n",
    "    print(\"charset: \", charset)\n",
    "    res_charset.ix[charset][\"Accuracy\"] = LanguageDiscriminator(LSTM(Dataset(\"data/eng_\"+charset+\".txt\")).train(), LSTM(Dataset(\"data/frn_\"+charset+\".txt\")).train()).score()\n",
    "    res_charset.ix[charset][\"Time\"] = time()-t\n",
    "    clear_output()\n",
    "res_charset"
   ]
  },
  {
   "cell_type": "markdown",
   "metadata": {},
   "source": [
    "<span style=\"color:darkblue\">As we can tell from the output above, the set of characters used has very little influence over the accuracy of our model. The best score is still when the charset used is the default one, the one with everything. We can guess that punctuation and spaces help captures the internal structure of English and French languages.</span>"
   ]
  },
  {
   "cell_type": "markdown",
   "metadata": {},
   "source": [
    "### Applying the model to other texts\n",
    "<div style=\"color:darkblue\">\n",
    "For this part, we tried training our LSTM models on different datasets and different types of texts to see what quality of content it could generate. We trained our model on the following datasets:<br>\n",
    "<ul><li><b>Wikipedia Articles (random paragraphs from random wikipedia articles):</b></li></ul></div>"
   ]
  },
  {
   "cell_type": "code",
   "execution_count": 225,
   "metadata": {
    "collapsed": false
   },
   "outputs": [
    {
     "name": "stdout",
     "output_type": "stream",
     "text": [
      "Epoch 1/5\n",
      "95328/95328 [==============================] - 87s - loss: 2.1606    \n",
      "Epoch 2/5\n",
      "95328/95328 [==============================] - 53s - loss: 1.3820    \n",
      "Epoch 3/5\n",
      "95328/95328 [==============================] - 51s - loss: 1.0714    \n",
      "Epoch 4/5\n",
      "95328/95328 [==============================] - 47s - loss: 0.9413    \n",
      "Epoch 5/5\n",
      "95328/95328 [==============================] - 48s - loss: 0.8651    \n",
      "\n",
      "Generated from the seed \" by the revenge\":\n",
      " by the revenge ason was mostook to producers of the brong, knownine nerds aired corralio and he was hor the say affece comby, thetrated held the contucky of the season wassond securly frouge or new york ciedt as ans\" he was arred only badully undwa ibborst. tan is sid layonksord it aumod only culs assoce relth so audy to produce only spy: currdard th stealicathedrapic eali is added the trogen, sometor instruments well-squestrume hed with the roon, boham also abson was hosted by actord diocetract to the trace a or bellionsity subwly sul, in prosecuted by actor. been assock ents were the claimed equly, who harred as whlte only bulle, to the concentrated with numerons the season waskd was as of tasond cursit brenseason the context of talkinerd univg overheared by adialso are fay, who hadlamorrs assocropt, the frodure was hor the the the to the trace a brain her producers asold's aikleinhabeasinerds aireclace affect the cerradinerait holk times exommoce a braltor of styel position he hod. the dolfie whelh what as anbocutrator to 145th seallem, and asofte say whather diose cortucky. orcen the context of talkineresce bears. films, the season waskored the crommons's organssial sich the claim, as march the cessed he bast voss acaithor of steam-powered by actor in the context of taskolkion as the revenge of the held there lewher by acconconstructer, as worl pantory again to the the containm, and asothe cated of styely assue ronx, as whelle to say how manainbonseed as well as well asstrow earin the context of tarket. lineralsid season to the concoursed oodkir rolt .ies the revenge of tas held thered held there when somethe soil arvanched positions, baskolsition he had been assock enty councu, the crime som, either position he had been pastor the croof plantations whether dioce and busiss\" to idstat the trace a brain herb producitly say whan are choucke moder's carradibere cert carrst. plannotad been pastor the crantily fully undergrauchydither to issock to stee revenge asof the season waskored the croonx, as whell when they was whele centurriated the croof the season waskored the concoursed tyorl mactor so frodures from a bears. films, the season hos,ed by ine of bridgepor he crimes or morrs corrams. hertiolemdyach the soil or negataineroundiclained beer diock and asont. he reali reles ass, and esapm, and asort carradileto it is the cerrast to use a fully, knownd builtine age anost say how car'st, there assock entuclasond tooger\" darwoanic xalicnellicle assueereinh\n"
     ]
    },
    {
     "data": {
      "text/plain": [
       "<__main__.LSTM at 0x14aacab3eb8>"
      ]
     },
     "execution_count": 225,
     "metadata": {},
     "output_type": "execute_result"
    }
   ],
   "source": [
    "LSTM(Dataset(\"data/wiki.txt\", substr_size=15)).train().generate(size=2500)"
   ]
  },
  {
   "cell_type": "markdown",
   "metadata": {},
   "source": [
    "<span style=\"color:darkblue\">We can see from the output above that the results are note as good as what we could expect. This may be due to the fact that Wikipedia articles tells about a wide variety of subjects with a lot a really specific/technical words and names, thus quickly become over-complicated for our model. We should try on a text with a much smaller vocabulary.</span>"
   ]
  },
  {
   "cell_type": "markdown",
   "metadata": {},
   "source": [
    "<div style=\"color:darkblue\"><ul><li><b>Novel extracts (random paragraphs from Jack London - Martin Eden):</b></li></ul></div>"
   ]
  },
  {
   "cell_type": "code",
   "execution_count": 226,
   "metadata": {
    "collapsed": false
   },
   "outputs": [
    {
     "name": "stdout",
     "output_type": "stream",
     "text": [
      "Epoch 1/5\n",
      "215680/215680 [==============================] - 144s - loss: 1.8368   \n",
      "Epoch 2/5\n",
      "215680/215680 [==============================] - 115s - loss: 1.3656   \n",
      "Epoch 3/5\n",
      "215680/215680 [==============================] - 115s - loss: 1.1838   \n",
      "Epoch 4/5\n",
      "215680/215680 [==============================] - 115s - loss: 1.0895   \n",
      "Epoch 5/5\n",
      "215680/215680 [==============================] - 117s - loss: 1.0296   \n",
      "\n",
      "Generated from the seed \"n she had taken\":\n",
      "n she had taken the was no so far nearer, talking nearybeahing come than the world, and to the fast looking of soul out lefior to feie caced ly of eyes ff orld so lave gyinssinuthe mean worked the poare, anot him, like fee scove a scarions and was was a nurry. pointent of anothe so faist oper dient and form him and the two fight-fly he the old of broak, ruth. he so faint o blact morie wee no so fal coass in the time and she would no make sudeasing so making worlh-ly in thand to the fieriepsoon on toly, lone of soul ,umm noworked with his towering promping inter and he love that he so faiet indle and the tent for him, confident of rekecl oped him, cient so fad nowerain wele so far witces, rekfult of his mike to degrience, with open the was consing in the was never singere of he begeninations; butched with enced love that he for a the fident of eyes fece to so fal him of rew hom, as in him and student of powar, but no spirity and fer the like fantint of the boand no lear. the finest browncentiche bland to sup in the eyes, and was worked the time in the work. the travel of soul toly, lone to love thanly were ginatr him and linder to swoffiey so for no room entered wishe was conning of eyes steren of the unier of soul he finest to was never love to him, he love that was no so smelong in the were coul of his poweat. but thiss was coped hue finer. and moke gommenpesing so make oped in his work life wout him and ele and dead of ruther than the love that he finest so faind would nome of soul o getim the servoate spickent of coull classion nadartie corlige classing thater move to love a e a sconed ruther condithly and edge of soul toss was poacce, posis eyes and no speak no oped him of ent,ile own live coil of sister moke instarve sidered no speak of peeced and ant so far worll geteals the likis i was elives of the eyes, wis so far was he feigncides, just moviimmojuy power. so faicus eyes and she was judtimetape was to learg and as to he a man and so far wimnter was neak atere with of the cool gokestarry vaust ruted by in the was entitled to him, a the finest corloknowe to him and student and scove that was love toll and worke caby ine of the curberien oppositoct, and was a nurryes eyeake no love thant was eleving ideas now. thos towerang as him and starry vautuse vision of so farried, fll thing in the work. a fegttyventyvom in woy confing and fore the love that him ned ruth. he was never he so far wim with any of the cool to love a befe to the was no spirien so fa\n"
     ]
    },
    {
     "data": {
      "text/plain": [
       "<__main__.LSTM at 0x14ce325bf60>"
      ]
     },
     "execution_count": 226,
     "metadata": {},
     "output_type": "execute_result"
    }
   ],
   "source": [
    "LSTM(Dataset(\"data/novel.txt\", substr_size=15)).train().generate(size=2500)"
   ]
  },
  {
   "cell_type": "markdown",
   "metadata": {},
   "source": [
    "<span style=\"color:darkblue\">As we can tell form the output above, the results are already much better than wikipedia articles. It doesn't quite tell a story, nor even always output real words, but the overall structure is respected. In order to improve the results, maybe we can try working on <b>set of words</b> instead of a set of characters.</span>"
   ]
  },
  {
   "cell_type": "markdown",
   "metadata": {},
   "source": [
    "<div style=\"color:darkblue\"><ul><li><b>Rap lyrics (cult Eminem songs' lyrics)</b></li></ul>"
   ]
  },
  {
   "cell_type": "code",
   "execution_count": 228,
   "metadata": {
    "collapsed": false
   },
   "outputs": [
    {
     "name": "stdout",
     "output_type": "stream",
     "text": [
      "Epoch 1/5\n",
      "253280/253280 [==============================] - 169s - loss: 1.7845   \n",
      "Epoch 2/5\n",
      "253280/253280 [==============================] - 132s - loss: 1.3066   \n",
      "Epoch 3/5\n",
      "253280/253280 [==============================] - 135s - loss: 1.1474   \n",
      "Epoch 4/5\n",
      "253280/253280 [==============================] - 132s - loss: 1.0631   \n",
      "Epoch 5/5\n",
      "253280/253280 [==============================] - 134s - loss: 1.0045   \n",
      "\n",
      "Generated from the seed \"that is gaping \":\n",
      "that is gaping too it with your cannin' yo be the be how why wigh like yo, in want to seour just lost it i'm job for with the with my han to examain than to stain to i cannto tan' to start it, i don't warn to be the beside, who lose-mout lick to, shit we acaust so i ain' to kneed to sk it that with the soldiers up in hance to know it the s in it i ain't way to words with my sincle bit by yid i hash't to so empty withougn to be the be h wert enfuct they s bizin' i hond to blow mhine to stop my foriers us an en with my cold orf my who wies i aildin l did in think off i'm stronnword it so me friettr no i an jaws, waysed with your jawsf never will, fuc wint! go too like you've be ho literort an to pert with him say with my like for my with than! popposuire 'caldm the grude to go to stom und than any shick i soldiers live 'em if some volf off, i reth to as an thet tat try to forge an exatow to forget yo you so i ail jost show in it to esed ain't the a littly 'cause wh in trom with now it even tho ways i say i'm just inht i had a like my ene'f you an the stent that i rent it i'm step by so futtard sti horied thin any sted to stop dors got to know hould eve works it i ain't not to st your jaws, way so i bettin' hoan the ust in to fet my likery bum murderection? it to winly get it to let me so forgured fuis the a conts trom in i'm i'm stiof it i ain' we acaum in fround even it, you anot my who's i'm just up in the so i cannto get be ho wart to sk it i ain't my whole up wi crosnels so i causs juct is to start it, to figul ust wilk my your i wants to stain' the man i'm stemout don't wann it i an my steppin' your you 'am t the hay we know how have none to as the front i way m what you kne somethor some cortronna fy us es off lted your see your my hand to a i canny, just inholf in so that you aways tho show how i feel like to ad i think i'm not to stop back i and ever win busy and to have i a not to get win may some so i ain lour to a start a rhyme i'm back it's your to just froing to be the be h then yo get so i ain forg so i an it, your nonit than to start he you 't niver without to eart anyshe face you've comply i wr chroan no, juct to i as so i went the shit we acat i were lost it to cross, it's no bention some on ef to stain to mind in to have now ords with the s the i have it boow i'm stamplina to forget it i ann that with the some on you think i'm jaws littly trat i say tot i had a lift is bits willin' to start an jobt, i'll like to domn withoud honest my witho\n"
     ]
    },
    {
     "data": {
      "text/plain": [
       "<__main__.LSTM at 0x14ce9037ef0>"
      ]
     },
     "execution_count": 228,
     "metadata": {},
     "output_type": "execute_result"
    }
   ],
   "source": [
    "LSTM(Dataset(\"data/rap.txt\", substr_size=15)).train().generate(size=2500)"
   ]
  },
  {
   "cell_type": "markdown",
   "metadata": {},
   "source": [
    "<span style=\"color:darkblue\">As we can tell from the output above, the results are quite encouraging, and even really funny as long you've got some imagination: <i>\"so i went the shit we acat i were lost it to cross,\", \"so i ain lour to a start a rhyme i'm back\", \"try to forge an exatow to forget yo you so i ail jost show in it\", \"your jawsf never will, fuc wint!\"</i>. This model obviously isn't ready to write some real rap lyrics, but it definitely shows that there are a lot of things we can do in this domain.</span>"
   ]
  },
  {
   "cell_type": "markdown",
   "metadata": {},
   "source": [
    "### Compare with other methods: N-grams\n",
    "<br>\n",
    "<div style=\"color:darkblue\">Instead of using a complex method like the LSTMs, we're going to use a very simple statistical method based on n-grams and compare the results.</div>"
   ]
  },
  {
   "cell_type": "code",
   "execution_count": 48,
   "metadata": {
    "collapsed": true
   },
   "outputs": [],
   "source": [
    "from nltk import ngrams\n",
    "\n",
    "# Set some global constants\n",
    "LANGUAGES = {'eng': 'english', 'frn': 'french'} # Languages to load \n",
    "DATA_PATH = os.path.join(os.getcwd(), './data/') # Where to find the Kaggle Dataset"
   ]
  },
  {
   "cell_type": "code",
   "execution_count": 49,
   "metadata": {
    "collapsed": true
   },
   "outputs": [],
   "source": [
    "# Loads a text corpus\n",
    "def load_txt(path):\n",
    "    with open(path, 'r') as file:\n",
    "        return file.read()"
   ]
  },
  {
   "cell_type": "code",
   "execution_count": 50,
   "metadata": {
    "collapsed": true
   },
   "outputs": [],
   "source": [
    "# Helper to remove chars that will not be correctly encoded\n",
    "def remove_unknown(text):\n",
    "    return re.sub(r'[^(a-z)+\\d+ \\.,;\"\\'\\?!\\-_:)]', '', re.sub(r'[\\n\\t]', ' ', text.lower())).strip()"
   ]
  },
  {
   "cell_type": "code",
   "execution_count": 51,
   "metadata": {
    "collapsed": true
   },
   "outputs": [],
   "source": [
    "def load_language_corpuses(languages=LANGUAGES, path=DATA_PATH):\n",
    "    corpuses = {}\n",
    "    for langid, lang in languages.items():\n",
    "        corpuses[lang] = remove_unknown(load_txt(os.path.join(path, langid + '.txt')))\n",
    "    return corpuses\n",
    "\n",
    "corpuses = load_language_corpuses()"
   ]
  },
  {
   "cell_type": "markdown",
   "metadata": {},
   "source": [
    "<div style=\"color:darkblue\">The main part of this is to generate a bunch of bigrams and trigrams from the training data.</div>"
   ]
  },
  {
   "cell_type": "code",
   "execution_count": 52,
   "metadata": {
    "collapsed": true
   },
   "outputs": [],
   "source": [
    "def gen_ngrams(text, nrange=[2, 3]):\n",
    "    ng = []\n",
    "    for n in nrange:\n",
    "        ng += ngrams(text, n)\n",
    "    return ng\n",
    "\n",
    "def split_text(text, test_split=.2):\n",
    "    train_len = int(len(text)*(1-test_split))\n",
    "    return text[:train_len], text[train_len:]\n",
    "\n",
    "def gen_ngrams_for_corpus(corpuses, nrange=[2, 3], test_split=.2):\n",
    "    train_grams = {}\n",
    "    test_grams = {}\n",
    "    for lang, text in corpuses.items():\n",
    "        tr, te = split_text(text, test_split)\n",
    "        train_grams[lang] = gen_ngrams(tr, nrange)\n",
    "        test_grams[lang] = gen_ngrams(te, nrange)\n",
    "    return train_grams, test_grams\n",
    "\n",
    "corpuses_train_grams, corpuses_test_grams = gen_ngrams_for_corpus(corpuses)"
   ]
  },
  {
   "cell_type": "markdown",
   "metadata": {},
   "source": [
    "<div style=\"color:darkblue\">Then, we just count how many times they actually appear.</div>"
   ]
  },
  {
   "cell_type": "code",
   "execution_count": 53,
   "metadata": {
    "collapsed": true
   },
   "outputs": [],
   "source": [
    "def gen_ngram_freqs(ngrams):\n",
    "    apparitions = {}\n",
    "    tot_app = len(ngrams)\n",
    "    for ngram in ngrams:\n",
    "        if ngram in apparitions:\n",
    "            apparitions[ngram] += 1\n",
    "        else:\n",
    "            apparitions[ngram] = 1\n",
    "    ng_freq = {}\n",
    "    for ng, app in apparitions.items():\n",
    "        ng_freq[ng] = float(app)/float(tot_app)\n",
    "    return ng_freq\n",
    "\n",
    "ngram_freq_en = gen_ngram_freqs(corpuses_train_grams['english'])\n",
    "ngram_freq_fr = gen_ngram_freqs(corpuses_train_grams['french'])"
   ]
  },
  {
   "cell_type": "markdown",
   "metadata": {},
   "source": [
    "<div style=\"color:darkblue\">Finally, we can score some test bigrams and trigrams by just looking up the frequencies.</div>"
   ]
  },
  {
   "cell_type": "code",
   "execution_count": 54,
   "metadata": {
    "collapsed": false
   },
   "outputs": [
    {
     "data": {
      "text/plain": [
       "12.738775985558583"
      ]
     },
     "execution_count": 54,
     "metadata": {},
     "output_type": "execute_result"
    }
   ],
   "source": [
    "def score_ng(ngram_freqs, ngrams_test):\n",
    "    score = 0\n",
    "    for gram in ngrams_test:\n",
    "        if gram in ngram_freqs:\n",
    "            score += ngram_freqs[gram]\n",
    "    return score\n",
    "\n",
    "score_ng(ngram_freq_en, corpuses_test_grams['english'])"
   ]
  },
  {
   "cell_type": "markdown",
   "metadata": {},
   "source": [
    "<div style=\"color:darkblue\">By comparing the score for each model, we can make prediction and therefore get the accuracy.</div>"
   ]
  },
  {
   "cell_type": "code",
   "execution_count": 55,
   "metadata": {
    "collapsed": false
   },
   "outputs": [
    {
     "data": {
      "text/plain": [
       "0.7491204925241864"
      ]
     },
     "execution_count": 55,
     "metadata": {},
     "output_type": "execute_result"
    }
   ],
   "source": [
    "def ng_accuracy(freq_lang1, freq_lang2, test_lang1, test_lang2, substr=5, nrange=[2,3]):\n",
    "    correct = 0\n",
    "    total = 0\n",
    "    for i in range(len(test_lang1)):\n",
    "        text = test_lang1[i:i+substr]\n",
    "        grams = gen_ngrams(text, nrange)\n",
    "        total += 1\n",
    "        if score_ng(freq_lang1, grams) > score_ng(freq_lang2, grams):\n",
    "            correct += 1\n",
    "    for i in range(len(test_lang2)):\n",
    "        text = test_lang2[i:i+substr]\n",
    "        grams = gen_ngrams(text, nrange)\n",
    "        total += 1\n",
    "        if score_ng(freq_lang2, grams) > score_ng(freq_lang1, grams):\n",
    "            correct += 1\n",
    "    return float(correct)/float(total)\n",
    "\n",
    "_, en_test_text = split_text(corpuses['english'])\n",
    "_, fr_test_text = split_text(corpuses['french'])\n",
    "\n",
    "ng_accuracy(ngram_freq_en, ngram_freq_fr, en_test_text, fr_test_text)"
   ]
  },
  {
   "cell_type": "markdown",
   "metadata": {},
   "source": [
    "<div style=\"color:darkblue\">Given the simplicity of the model, the results are fairly good. But once tuned, the LSTMs have proven themselves to be capable of much higher scores.</div>"
   ]
  }
 ],
 "metadata": {
  "anaconda-cloud": {},
  "kernelspec": {
   "display_name": "Python [conda env:DeepLearning]",
   "language": "python",
   "name": "conda-env-DeepLearning-py"
  },
  "language_info": {
   "codemirror_mode": {
    "name": "ipython",
    "version": 3
   },
   "file_extension": ".py",
   "mimetype": "text/x-python",
   "name": "python",
   "nbconvert_exporter": "python",
   "pygments_lexer": "ipython3",
   "version": "3.5.3"
  }
 },
 "nbformat": 4,
 "nbformat_minor": 1
}
